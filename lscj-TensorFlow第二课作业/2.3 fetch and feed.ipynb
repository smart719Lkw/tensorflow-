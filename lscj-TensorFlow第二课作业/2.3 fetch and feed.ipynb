{
 "cells": [
  {
   "cell_type": "code",
   "execution_count": 1,
   "metadata": {
    "collapsed": true
   },
   "outputs": [],
   "source": [
    "import tensorflow as tf"
   ]
  },
  {
   "cell_type": "markdown",
   "metadata": {},
   "source": [
    "# 1.0 fetch"
   ]
  },
  {
   "cell_type": "code",
   "execution_count": 5,
   "metadata": {
    "collapsed": false
   },
   "outputs": [
    {
     "name": "stdout",
     "output_type": "stream",
     "text": [
      "[array([4]), array([24])]\n"
     ]
    }
   ],
   "source": [
    "#fetch\n",
    "\n",
    "c1 = tf.constant([3])\n",
    "c2 = tf.constant([1])\n",
    "c3 = tf.constant([6])\n",
    "\n",
    "#add\n",
    "add = tf.add(c1,c2)\n",
    "mul = tf.multiply(c3,add)\n",
    "\n",
    "with tf.Session() as sess:\n",
    "    print(sess.run([add,mul]))"
   ]
  },
  {
   "cell_type": "markdown",
   "metadata": {},
   "source": [
    "# 2.0 feed(比较常用)"
   ]
  },
  {
   "cell_type": "code",
   "execution_count": 4,
   "metadata": {
    "collapsed": false
   },
   "outputs": [
    {
     "name": "stdout",
     "output_type": "stream",
     "text": [
      "[ 24.]\n"
     ]
    }
   ],
   "source": [
    "#feed\n",
    "c1 = tf.placeholder(tf.float32)\n",
    "c2 = tf.placeholder(tf.float32)\n",
    "\n",
    "add = tf.add(c1,c2)\n",
    "\n",
    "with tf.Session() as sess:\n",
    "    print(sess.run(add,feed_dict={c1:[2],c2:[22]}))\n"
   ]
  },
  {
   "cell_type": "code",
   "execution_count": null,
   "metadata": {
    "collapsed": true
   },
   "outputs": [],
   "source": []
  }
 ],
 "metadata": {
  "anaconda-cloud": {},
  "kernelspec": {
   "display_name": "Python [default]",
   "language": "python",
   "name": "python3"
  },
  "language_info": {
   "codemirror_mode": {
    "name": "ipython",
    "version": 3
   },
   "file_extension": ".py",
   "mimetype": "text/x-python",
   "name": "python",
   "nbconvert_exporter": "python",
   "pygments_lexer": "ipython3",
   "version": "3.5.2"
  }
 },
 "nbformat": 4,
 "nbformat_minor": 1
}
